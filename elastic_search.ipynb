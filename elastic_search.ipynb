{
  "nbformat": 4,
  "nbformat_minor": 0,
  "metadata": {
    "colab": {
      "name": "elastic search.ipynb",
      "provenance": [],
      "collapsed_sections": []
    },
    "kernelspec": {
      "name": "python3",
      "display_name": "Python 3"
    },
    "language_info": {
      "name": "python"
    }
  },
  "cells": [
    {
      "cell_type": "code",
      "metadata": {
        "colab": {
          "base_uri": "https://localhost:8080/"
        },
        "id": "wtGmBgxtco8a",
        "outputId": "59d01363-20d6-4bfe-cb22-9378c081de7c"
      },
      "source": [
        "!python -m pip install elasticsearch\n"
      ],
      "execution_count": null,
      "outputs": [
        {
          "output_type": "stream",
          "text": [
            "Collecting elasticsearch\n",
            "\u001b[?25l  Downloading https://files.pythonhosted.org/packages/8f/5c/60a32dfc24da07703b5b32d9935bcc36786a9176e67117c4b6215fd6d914/elasticsearch-7.12.1-py2.py3-none-any.whl (339kB)\n",
            "\u001b[K     |████████████████████████████████| 348kB 3.9MB/s \n",
            "\u001b[?25hRequirement already satisfied: urllib3<2,>=1.21.1 in /usr/local/lib/python3.7/dist-packages (from elasticsearch) (1.24.3)\n",
            "Requirement already satisfied: certifi in /usr/local/lib/python3.7/dist-packages (from elasticsearch) (2020.12.5)\n",
            "Installing collected packages: elasticsearch\n",
            "Successfully installed elasticsearch-7.12.1\n"
          ],
          "name": "stdout"
        }
      ]
    },
    {
      "cell_type": "code",
      "metadata": {
        "id": "-nHGXT3BceKY"
      },
      "source": [
        "from elasticsearch import Elasticsearch\n"
      ],
      "execution_count": null,
      "outputs": []
    },
    {
      "cell_type": "code",
      "metadata": {
        "colab": {
          "base_uri": "https://localhost:8080/"
        },
        "id": "M1hvHng_cmGa",
        "outputId": "96b5418f-1bdc-46bc-ff23-d3c5c0f41091"
      },
      "source": [
        "e1={\n",
        "    \"first_name\":\"saya\",\n",
        "    \"last_name\":\"kandarkar\",\n",
        "    \"age\": 25,\n",
        "    \"about\": \"Love to play football\",\n",
        "    \"interests\": ['sports','music'],\n",
        "}\n",
        "e2={\n",
        "    \"first_name\":\"taylor\",\n",
        "    \"last_name\":\"swift\",\n",
        "    \"age\": 33,\n",
        "    \"about\": \"Love to play cricket\",\n",
        "    \"interests\": ['sports','music'],\n",
        "}\n",
        "e3={\n",
        "    \"first_name\":\"ariana\",\n",
        "    \"last_name\":\"grande\",\n",
        "    \"age\": 30,\n",
        "    \"about\": \"Love to play hockey\",\n",
        "    \"interests\": ['sports','music'],\n",
        "}\n",
        "print(e1,e2,e3)"
      ],
      "execution_count": null,
      "outputs": [
        {
          "output_type": "stream",
          "text": [
            "{'first_name': 'saya', 'last_name': 'kandarkar', 'age': 25, 'about': 'Love to play football', 'interests': ['sports', 'music']} {'first_name': 'taylor', 'last_name': 'swift', 'age': 33, 'about': 'Love to play cricket', 'interests': ['sports', 'music']} {'first_name': 'ariana', 'last_name': 'grande', 'age': 30, 'about': 'Love to play hockey', 'interests': ['sports', 'music']}\n"
          ],
          "name": "stdout"
        }
      ]
    },
    {
      "cell_type": "code",
      "metadata": {
        "id": "InoD0J8IdCUm"
      },
      "source": [
        "es = Elasticsearch([{'host': 'localhost', 'port': 9200}])\n"
      ],
      "execution_count": null,
      "outputs": []
    },
    {
      "cell_type": "code",
      "metadata": {
        "id": "LLD4BMuShF-9"
      },
      "source": [
        "e1={\n",
        "    \"first_name\":\"s\",\n",
        "    \"last_name\":\"k\",\n",
        "    \"age\": 27,\n",
        "    \"about\": \"Love to play cricket\",\n",
        "    \"interests\": ['sports','music'],\n",
        "}"
      ],
      "execution_count": null,
      "outputs": []
    },
    {
      "cell_type": "code",
      "metadata": {
        "id": "Kif2RVWVfHfX"
      },
      "source": [
        "res = es.index(index=\"employee\", id=1, body=e1)\n",
        "res = es.index(index=\"employee\", id=2, body=e2)\n",
        "res = es.index(index=\"employee\", id=3, body=e3)"
      ],
      "execution_count": null,
      "outputs": []
    },
    {
      "cell_type": "code",
      "metadata": {
        "id": "rYKi_3wLn9-U"
      },
      "source": [
        "res = es.get(index=\"employee\", id=3)"
      ],
      "execution_count": null,
      "outputs": []
    },
    {
      "cell_type": "code",
      "metadata": {
        "id": "mvFM0gvYnjZd"
      },
      "source": [
        "res= es.search(index='employee',body={'query':{'match':{'first_name':'taylor'}}})"
      ],
      "execution_count": null,
      "outputs": []
    },
    {
      "cell_type": "code",
      "metadata": {
        "id": "UEtyCbdUo7vj"
      },
      "source": [
        "res= es.search(index='employee',body={\n",
        "        'query':{\n",
        "            'bool':{\n",
        "                'must':{\n",
        "                    'match':{\n",
        "                        'first_name':'saya'\n",
        "                    }\n",
        "                },\n",
        "                \"filter\":{\n",
        "                    \"range\":{\n",
        "                        \"age\":{\n",
        "                            \"lt\":26\n",
        "                        }\n",
        "                    }\n",
        "                }\n",
        "            }\n",
        "        }\n",
        "    })"
      ],
      "execution_count": null,
      "outputs": []
    },
    {
      "cell_type": "code",
      "metadata": {
        "id": "H2nJXWrmpJp_"
      },
      "source": [
        "res= es.search(index='employee',body={\n",
        "        'query':{\n",
        "            'match':{\n",
        "                \"about\":\"play cricket\"\n",
        "            }\n",
        "        }\n",
        "    })"
      ],
      "execution_count": null,
      "outputs": []
    },
    {
      "cell_type": "code",
      "metadata": {
        "colab": {
          "base_uri": "https://localhost:8080/"
        },
        "id": "zYH943C9pcg5",
        "outputId": "70d7d68d-3a75-4c81-ee91-6bc8c70cbe26"
      },
      "source": [
        "res"
      ],
      "execution_count": null,
      "outputs": [
        {
          "output_type": "execute_result",
          "data": {
            "text/plain": [
              "{'_shards': {'failed': 0, 'skipped': 0, 'successful': 1, 'total': 1},\n",
              " 'hits': {'hits': [{'_id': '2',\n",
              "    '_index': 'employee',\n",
              "    '_score': 0.7985077,\n",
              "    '_source': {'about': 'Love to play cricket',\n",
              "     'age': 33,\n",
              "     'first_name': 'taylor',\n",
              "     'interests': ['sports', 'music'],\n",
              "     'last_name': 'swift'},\n",
              "    '_type': '_doc'},\n",
              "   {'_id': '1',\n",
              "    '_index': 'employee',\n",
              "    '_score': 0.105360515,\n",
              "    '_source': {'about': 'Love to play football',\n",
              "     'age': 25,\n",
              "     'first_name': 'saya',\n",
              "     'interests': ['sports', 'music'],\n",
              "     'last_name': 'kandarkar'},\n",
              "    '_type': '_doc'},\n",
              "   {'_id': '3',\n",
              "    '_index': 'employee',\n",
              "    '_score': 0.105360515,\n",
              "    '_source': {'about': 'Love to play hockey',\n",
              "     'age': 30,\n",
              "     'first_name': 'ariana',\n",
              "     'interests': ['sports', 'music'],\n",
              "     'last_name': 'grande'},\n",
              "    '_type': '_doc'}],\n",
              "  'max_score': 0.7985077,\n",
              "  'total': {'relation': 'eq', 'value': 3}},\n",
              " 'timed_out': False,\n",
              " 'took': 13}"
            ]
          },
          "metadata": {
            "tags": []
          },
          "execution_count": 60
        }
      ]
    },
    {
      "cell_type": "code",
      "metadata": {
        "id": "3LQBPc7ApxgS"
      },
      "source": [
        "res= es.search(index='employee',body={\n",
        "        \"aggs\": {\n",
        "            \"all_interests\": {\n",
        "              \"terms\": {\n",
        "                \"field\": \"e1.interests\"\n",
        "              }\n",
        "        }\n",
        "    }\n",
        "})"
      ],
      "execution_count": null,
      "outputs": []
    },
    {
      "cell_type": "code",
      "metadata": {
        "colab": {
          "base_uri": "https://localhost:8080/"
        },
        "id": "5DCXQJ23qvpL",
        "outputId": "476d17a2-33a2-4825-948a-5b7ebe238408"
      },
      "source": [
        "res"
      ],
      "execution_count": null,
      "outputs": [
        {
          "output_type": "execute_result",
          "data": {
            "text/plain": [
              "{'_shards': {'failed': 0, 'skipped': 0, 'successful': 1, 'total': 1},\n",
              " 'aggregations': {'all_interests': {'buckets': [],\n",
              "   'doc_count_error_upper_bound': 0,\n",
              "   'sum_other_doc_count': 0}},\n",
              " 'hits': {'hits': [{'_id': '1',\n",
              "    '_index': 'employee',\n",
              "    '_score': 1.0,\n",
              "    '_source': {'about': 'Love to play football',\n",
              "     'age': 25,\n",
              "     'first_name': 'saya',\n",
              "     'interests': ['sports', 'music'],\n",
              "     'last_name': 'kandarkar'},\n",
              "    '_type': '_doc'},\n",
              "   {'_id': '2',\n",
              "    '_index': 'employee',\n",
              "    '_score': 1.0,\n",
              "    '_source': {'about': 'Love to play cricket',\n",
              "     'age': 33,\n",
              "     'first_name': 'taylor',\n",
              "     'interests': ['sports', 'music'],\n",
              "     'last_name': 'swift'},\n",
              "    '_type': '_doc'},\n",
              "   {'_id': '3',\n",
              "    '_index': 'employee',\n",
              "    '_score': 1.0,\n",
              "    '_source': {'about': 'Love to play hockey',\n",
              "     'age': 30,\n",
              "     'first_name': 'ariana',\n",
              "     'interests': ['sports', 'music'],\n",
              "     'last_name': 'grande'},\n",
              "    '_type': '_doc'}],\n",
              "  'max_score': 1.0,\n",
              "  'total': {'relation': 'eq', 'value': 3}},\n",
              " 'timed_out': False,\n",
              " 'took': 18}"
            ]
          },
          "metadata": {
            "tags": []
          },
          "execution_count": 65
        }
      ]
    }
  ]
}